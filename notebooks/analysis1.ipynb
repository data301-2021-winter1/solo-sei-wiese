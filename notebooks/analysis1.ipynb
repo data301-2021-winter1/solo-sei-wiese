{
 "cells": [
  {
   "cell_type": "markdown",
   "metadata": {},
   "source": [
    "# Seiya Iwama"
   ]
  },
  {
   "cell_type": "markdown",
   "metadata": {},
   "source": [
    "## Research question/interests\n",
    "\n",
    "Identify what indicators can be used to clearly visualize inequality.\n",
    "\n",
    "In other words, identify which indicators are better indicators of inequality or which indicators are highly correlated (to the Corruption Perception Index)."
   ]
  },
  {
   "cell_type": "code",
   "execution_count": null,
   "metadata": {},
   "outputs": [],
   "source": [
    "import datapackage\n",
    "import pandas as pd\n",
    "\n",
    "data_url = 'https://datahub.io/core/corruption-perceptions-index/datapackage.json'\n",
    "\n",
    "package = datapackage.Package(data_url)\n",
    "\n",
    "resources = package.resources\n",
    "for resource in resources:\n",
    "    if resource.tabular:\n",
    "        data = pd.read_csv(resource.descriptor['path'])\n",
    "        print (data)"
   ]
  }
 ],
 "metadata": {
  "language_info": {
   "name": "plaintext"
  },
  "orig_nbformat": 4
 },
 "nbformat": 4,
 "nbformat_minor": 2
}
