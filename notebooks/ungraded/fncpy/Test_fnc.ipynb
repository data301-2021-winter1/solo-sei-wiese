{
 "cells": [
  {
   "cell_type": "code",
   "execution_count": 27,
   "id": "7bc7183a-089a-462c-8720-551a95cfbea8",
   "metadata": {},
   "outputs": [],
   "source": [
    "import pandas as pd\n",
    "import numpy as np"
   ]
  },
  {
   "cell_type": "code",
   "execution_count": 28,
   "id": "597e876e",
   "metadata": {},
   "outputs": [
    {
     "data": {
      "text/html": [
       "<div>\n",
       "<style scoped>\n",
       "    .dataframe tbody tr th:only-of-type {\n",
       "        vertical-align: middle;\n",
       "    }\n",
       "\n",
       "    .dataframe tbody tr th {\n",
       "        vertical-align: top;\n",
       "    }\n",
       "\n",
       "    .dataframe thead th {\n",
       "        text-align: right;\n",
       "    }\n",
       "</style>\n",
       "<table border=\"1\" class=\"dataframe\">\n",
       "  <thead>\n",
       "    <tr style=\"text-align: right;\">\n",
       "      <th></th>\n",
       "      <th>alpha2</th>\n",
       "      <th>titlename</th>\n",
       "      <th>shortname</th>\n",
       "      <th>region</th>\n",
       "      <th>region2</th>\n",
       "    </tr>\n",
       "  </thead>\n",
       "  <tbody>\n",
       "    <tr>\n",
       "      <th>0</th>\n",
       "      <td>AM</td>\n",
       "      <td>Armenia</td>\n",
       "      <td>Armenia</td>\n",
       "      <td>Asia</td>\n",
       "      <td>Western Asia</td>\n",
       "    </tr>\n",
       "    <tr>\n",
       "      <th>1</th>\n",
       "      <td>AN</td>\n",
       "      <td>the Netherlands Antilles</td>\n",
       "      <td>Netherlands Antilles</td>\n",
       "      <td>Americas</td>\n",
       "      <td>Caribbean</td>\n",
       "    </tr>\n",
       "    <tr>\n",
       "      <th>2</th>\n",
       "      <td>AO</td>\n",
       "      <td>Angola</td>\n",
       "      <td>Angola</td>\n",
       "      <td>Africa</td>\n",
       "      <td>Middle Africa</td>\n",
       "    </tr>\n",
       "    <tr>\n",
       "      <th>3</th>\n",
       "      <td>AR</td>\n",
       "      <td>Argentina</td>\n",
       "      <td>Argentina</td>\n",
       "      <td>Americas</td>\n",
       "      <td>South America</td>\n",
       "    </tr>\n",
       "    <tr>\n",
       "      <th>4</th>\n",
       "      <td>AS</td>\n",
       "      <td>American Samoa</td>\n",
       "      <td>American Samoa</td>\n",
       "      <td>Oceania</td>\n",
       "      <td>Oceania (excl. Australia and New Zealand)</td>\n",
       "    </tr>\n",
       "  </tbody>\n",
       "</table>\n",
       "</div>"
      ],
      "text/plain": [
       "  alpha2                 titlename             shortname    region  \\\n",
       "0     AM                   Armenia               Armenia      Asia   \n",
       "1     AN  the Netherlands Antilles  Netherlands Antilles  Americas   \n",
       "2     AO                    Angola                Angola    Africa   \n",
       "3     AR                 Argentina             Argentina  Americas   \n",
       "4     AS            American Samoa        American Samoa   Oceania   \n",
       "\n",
       "                                     region2  \n",
       "0                               Western Asia  \n",
       "1                                  Caribbean  \n",
       "2                              Middle Africa  \n",
       "3                              South America  \n",
       "4  Oceania (excl. Australia and New Zealand)  "
      ]
     },
     "execution_count": 28,
     "metadata": {},
     "output_type": "execute_result"
    }
   ],
   "source": [
    "# I want to take all african countries \"xpi_xxx.csv\" into one csv file.\n",
    "# use \"WID_countries.csv\" and \"AfricanDevelopment.csv\"\n",
    "\n",
    "WID = (pd.read_csv('../data/raw/WID_countries.csv', sep = \";\"))\n",
    "WID.head()"
   ]
  },
  {
   "cell_type": "code",
   "execution_count": 29,
   "id": "ad2da92b",
   "metadata": {},
   "outputs": [
    {
     "data": {
      "text/html": [
       "<div>\n",
       "<style scoped>\n",
       "    .dataframe tbody tr th:only-of-type {\n",
       "        vertical-align: middle;\n",
       "    }\n",
       "\n",
       "    .dataframe tbody tr th {\n",
       "        vertical-align: top;\n",
       "    }\n",
       "\n",
       "    .dataframe thead th {\n",
       "        text-align: right;\n",
       "    }\n",
       "</style>\n",
       "<table border=\"1\" class=\"dataframe\">\n",
       "  <thead>\n",
       "    <tr style=\"text-align: right;\">\n",
       "      <th></th>\n",
       "      <th>country</th>\n",
       "      <th>humanDevelopmentIndex</th>\n",
       "      <th>pop2021</th>\n",
       "    </tr>\n",
       "  </thead>\n",
       "  <tbody>\n",
       "    <tr>\n",
       "      <th>0</th>\n",
       "      <td>Seychelles</td>\n",
       "      <td>0.801</td>\n",
       "      <td>98.908</td>\n",
       "    </tr>\n",
       "    <tr>\n",
       "      <th>1</th>\n",
       "      <td>Mauritius</td>\n",
       "      <td>0.796</td>\n",
       "      <td>1273.433</td>\n",
       "    </tr>\n",
       "    <tr>\n",
       "      <th>2</th>\n",
       "      <td>Algeria</td>\n",
       "      <td>0.759</td>\n",
       "      <td>44616.624</td>\n",
       "    </tr>\n",
       "    <tr>\n",
       "      <th>3</th>\n",
       "      <td>Tunisia</td>\n",
       "      <td>0.739</td>\n",
       "      <td>11935.766</td>\n",
       "    </tr>\n",
       "    <tr>\n",
       "      <th>4</th>\n",
       "      <td>Botswana</td>\n",
       "      <td>0.728</td>\n",
       "      <td>2397.241</td>\n",
       "    </tr>\n",
       "  </tbody>\n",
       "</table>\n",
       "</div>"
      ],
      "text/plain": [
       "      country  humanDevelopmentIndex    pop2021\n",
       "0  Seychelles                  0.801     98.908\n",
       "1   Mauritius                  0.796   1273.433\n",
       "2     Algeria                  0.759  44616.624\n",
       "3     Tunisia                  0.739  11935.766\n",
       "4    Botswana                  0.728   2397.241"
      ]
     },
     "execution_count": 29,
     "metadata": {},
     "output_type": "execute_result"
    }
   ],
   "source": [
    "African = (pd.read_csv('../data/raw/AfricanDevelopment.csv'))\n",
    "African.head()"
   ]
  },
  {
   "cell_type": "code",
   "execution_count": 30,
   "id": "9aef038a",
   "metadata": {},
   "outputs": [
    {
     "data": {
      "text/html": [
       "<div>\n",
       "<style scoped>\n",
       "    .dataframe tbody tr th:only-of-type {\n",
       "        vertical-align: middle;\n",
       "    }\n",
       "\n",
       "    .dataframe tbody tr th {\n",
       "        vertical-align: top;\n",
       "    }\n",
       "\n",
       "    .dataframe thead th {\n",
       "        text-align: right;\n",
       "    }\n",
       "</style>\n",
       "<table border=\"1\" class=\"dataframe\">\n",
       "  <thead>\n",
       "    <tr style=\"text-align: right;\">\n",
       "      <th></th>\n",
       "      <th>alpha2</th>\n",
       "      <th>titlename</th>\n",
       "      <th>shortname</th>\n",
       "      <th>region</th>\n",
       "      <th>region2</th>\n",
       "    </tr>\n",
       "  </thead>\n",
       "  <tbody>\n",
       "    <tr>\n",
       "      <th>2</th>\n",
       "      <td>AO</td>\n",
       "      <td>Angola</td>\n",
       "      <td>Angola</td>\n",
       "      <td>Africa</td>\n",
       "      <td>Middle Africa</td>\n",
       "    </tr>\n",
       "    <tr>\n",
       "      <th>13</th>\n",
       "      <td>BF</td>\n",
       "      <td>Burkina Faso</td>\n",
       "      <td>Burkina Faso</td>\n",
       "      <td>Africa</td>\n",
       "      <td>Western Africa</td>\n",
       "    </tr>\n",
       "    <tr>\n",
       "      <th>16</th>\n",
       "      <td>BI</td>\n",
       "      <td>Burundi</td>\n",
       "      <td>Burundi</td>\n",
       "      <td>Africa</td>\n",
       "      <td>Eastern Africa</td>\n",
       "    </tr>\n",
       "    <tr>\n",
       "      <th>17</th>\n",
       "      <td>BJ</td>\n",
       "      <td>Benin</td>\n",
       "      <td>Benin</td>\n",
       "      <td>Africa</td>\n",
       "      <td>Western Africa</td>\n",
       "    </tr>\n",
       "    <tr>\n",
       "      <th>24</th>\n",
       "      <td>BW</td>\n",
       "      <td>Botswana</td>\n",
       "      <td>Botswana</td>\n",
       "      <td>Africa</td>\n",
       "      <td>Southern Africa</td>\n",
       "    </tr>\n",
       "  </tbody>\n",
       "</table>\n",
       "</div>"
      ],
      "text/plain": [
       "   alpha2     titlename     shortname  region          region2\n",
       "2      AO        Angola        Angola  Africa    Middle Africa\n",
       "13     BF  Burkina Faso  Burkina Faso  Africa   Western Africa\n",
       "16     BI       Burundi       Burundi  Africa   Eastern Africa\n",
       "17     BJ         Benin         Benin  Africa   Western Africa\n",
       "24     BW      Botswana      Botswana  Africa  Southern Africa"
      ]
     },
     "execution_count": 30,
     "metadata": {},
     "output_type": "execute_result"
    }
   ],
   "source": [
    "# take only African countries\n",
    "WID_African = WID.query('region == \"Africa\"') # df.query('state == \"CA\"')\n",
    "WID_African.head()\n",
    "\"\"\"\n",
    "The index skips numbers that aren't included. \n",
    "\"\"\""
   ]
  },
  {
   "cell_type": "code",
   "execution_count": 36,
   "id": "228e7520",
   "metadata": {},
   "outputs": [
    {
     "data": {
      "text/html": [
       "<div>\n",
       "<style scoped>\n",
       "    .dataframe tbody tr th:only-of-type {\n",
       "        vertical-align: middle;\n",
       "    }\n",
       "\n",
       "    .dataframe tbody tr th {\n",
       "        vertical-align: top;\n",
       "    }\n",
       "\n",
       "    .dataframe thead th {\n",
       "        text-align: right;\n",
       "    }\n",
       "</style>\n",
       "<table border=\"1\" class=\"dataframe\">\n",
       "  <thead>\n",
       "    <tr style=\"text-align: right;\">\n",
       "      <th></th>\n",
       "      <th>alpha2</th>\n",
       "      <th>titlename</th>\n",
       "      <th>shortname</th>\n",
       "      <th>region</th>\n",
       "      <th>region2</th>\n",
       "    </tr>\n",
       "  </thead>\n",
       "  <tbody>\n",
       "  </tbody>\n",
       "</table>\n",
       "</div>"
      ],
      "text/plain": [
       "Empty DataFrame\n",
       "Columns: [alpha2, titlename, shortname, region, region2]\n",
       "Index: []"
      ]
     },
     "execution_count": 36,
     "metadata": {},
     "output_type": "execute_result"
    }
   ],
   "source": [
    "# We will use initial 2 letters (alpha2) to achieve the purpose.\n",
    "African_alpha2 = pd.DataFrame(columns = WID.columns)\n",
    "African_alpha2.head()"
   ]
  },
  {
   "cell_type": "code",
   "execution_count": 32,
   "id": "9068b2ad",
   "metadata": {},
   "outputs": [
    {
     "data": {
      "text/plain": [
       "'\\nfor x in African[\"country\"]:\\n    df3=df1.append(df2, ignore_index=True)\\n\\n    df3=pd.concat([df1,df2],ignore_index=True)\\n'"
      ]
     },
     "execution_count": 32,
     "metadata": {},
     "output_type": "execute_result"
    }
   ],
   "source": [
    "\"\"\"かす\n",
    "for x in African[\"country\"]:\n",
    "    df3=df1.append(df2, ignore_index=True)\n",
    "    df3=pd.concat([df1,df2],ignore_index=True)\n",
    "\"\"\""
   ]
  },
  {
   "cell_type": "code",
   "execution_count": 43,
   "id": "ca1656fc",
   "metadata": {},
   "outputs": [],
   "source": [
    "# xx = pd.DataFrame(columns = WID.columns)\n",
    "for cntry in African['country']:\n",
    "    African_alpha2 = African_alpha2.append(WID.loc[WID['titlename'] == cntry], ignore_index=True) \n",
    "    # African_alpha2 = pd.concat([African_alpha2,WID.loc[WID['titlename'] == cntry]],ignore_index=True)\n",
    "African_alpha2 = (African_alpha2.drop(African_alpha2.index[African_alpha2['titlename'] == 'Namibia']).reset_index(drop=True))\n",
    "    \n"
   ]
  },
  {
   "cell_type": "code",
   "execution_count": 44,
   "id": "040adaf1",
   "metadata": {},
   "outputs": [
    {
     "data": {
      "text/html": [
       "<div>\n",
       "<style scoped>\n",
       "    .dataframe tbody tr th:only-of-type {\n",
       "        vertical-align: middle;\n",
       "    }\n",
       "\n",
       "    .dataframe tbody tr th {\n",
       "        vertical-align: top;\n",
       "    }\n",
       "\n",
       "    .dataframe thead th {\n",
       "        text-align: right;\n",
       "    }\n",
       "</style>\n",
       "<table border=\"1\" class=\"dataframe\">\n",
       "  <thead>\n",
       "    <tr style=\"text-align: right;\">\n",
       "      <th></th>\n",
       "      <th>alpha2</th>\n",
       "      <th>titlename</th>\n",
       "      <th>shortname</th>\n",
       "      <th>region</th>\n",
       "      <th>region2</th>\n",
       "    </tr>\n",
       "  </thead>\n",
       "  <tbody>\n",
       "    <tr>\n",
       "      <th>0</th>\n",
       "      <td>SC</td>\n",
       "      <td>Seychelles</td>\n",
       "      <td>Seychelles</td>\n",
       "      <td>Africa</td>\n",
       "      <td>Eastern Africa</td>\n",
       "    </tr>\n",
       "    <tr>\n",
       "      <th>1</th>\n",
       "      <td>MU</td>\n",
       "      <td>Mauritius</td>\n",
       "      <td>Mauritius</td>\n",
       "      <td>Africa</td>\n",
       "      <td>Eastern Africa</td>\n",
       "    </tr>\n",
       "    <tr>\n",
       "      <th>2</th>\n",
       "      <td>DZ</td>\n",
       "      <td>Algeria</td>\n",
       "      <td>Algeria</td>\n",
       "      <td>Africa</td>\n",
       "      <td>Northern Africa</td>\n",
       "    </tr>\n",
       "    <tr>\n",
       "      <th>3</th>\n",
       "      <td>TN</td>\n",
       "      <td>Tunisia</td>\n",
       "      <td>Tunisia</td>\n",
       "      <td>Africa</td>\n",
       "      <td>Northern Africa</td>\n",
       "    </tr>\n",
       "    <tr>\n",
       "      <th>4</th>\n",
       "      <td>BW</td>\n",
       "      <td>Botswana</td>\n",
       "      <td>Botswana</td>\n",
       "      <td>Africa</td>\n",
       "      <td>Southern Africa</td>\n",
       "    </tr>\n",
       "  </tbody>\n",
       "</table>\n",
       "</div>"
      ],
      "text/plain": [
       "  alpha2   titlename   shortname  region          region2\n",
       "0     SC  Seychelles  Seychelles  Africa   Eastern Africa\n",
       "1     MU   Mauritius   Mauritius  Africa   Eastern Africa\n",
       "2     DZ     Algeria     Algeria  Africa  Northern Africa\n",
       "3     TN     Tunisia     Tunisia  Africa  Northern Africa\n",
       "4     BW    Botswana    Botswana  Africa  Southern Africa"
      ]
     },
     "execution_count": 44,
     "metadata": {},
     "output_type": "execute_result"
    }
   ],
   "source": [
    "African_alpha2.head()"
   ]
  },
  {
   "cell_type": "code",
   "execution_count": 46,
   "metadata": {},
   "outputs": [],
   "source": [
    "AllC = (pd.read_csv(\"../data/raw/WID_data_SC.csv\", sep = \";\"))\n",
    "AllList = pd.DataFrame(columns = pd.read_csv(\"../data/raw/WID_data_SC.csv\", sep = \";\").columns)\n",
    "AllList = []\n",
    "for cc in African_alpha2['alpha2']:\n",
    "    AllList.append(pd.read_csv(f\"../data/raw/WID_data_{cc}.csv\", sep = ';'))\n",
    "AllC = pd.concat(AllList)"
   ]
  },
  {
   "cell_type": "code",
   "execution_count": null,
   "id": "fe54f9ce",
   "metadata": {},
   "outputs": [],
   "source": []
  },
  {
   "cell_type": "markdown",
   "id": "22659fd2",
   "metadata": {},
   "source": [
    "AllC.head()"
   ]
  },
  {
   "cell_type": "markdown",
   "id": "a0fa8950",
   "metadata": {},
   "source": []
  }
 ],
 "metadata": {
  "kernelspec": {
   "display_name": "Python 3 (ipykernel)",
   "language": "python",
   "name": "python3"
  },
  "language_info": {
   "codemirror_mode": {
    "name": "ipython",
    "version": 3
   },
   "file_extension": ".py",
   "mimetype": "text/x-python",
   "name": "python",
   "nbconvert_exporter": "python",
   "pygments_lexer": "ipython3",
   "version": "3.9.5"
  }
 },
 "nbformat": 4,
 "nbformat_minor": 5
}
