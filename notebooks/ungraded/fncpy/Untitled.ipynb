{
 "cells": [
  {
   "cell_type": "code",
   "execution_count": null,
   "id": "025d0cd0-9f1d-41f9-8169-acfcd8b6a670",
   "metadata": {},
   "outputs": [],
   "source": [
    "import pandas as pd\n",
    "import numpy as np\n",
    "from sklearn.datasets import load_wine\n",
    "\n",
    "data = load_wine() # this a data file that gets loaded\n",
    "\n",
    "# Method chaining begins\n",
    "\n",
    "df = (   \n",
    "    pd.DataFrame(data.data,columns=data.feature_names)\n",
    "    .rename(columns={\"color_intensity\": \"ci\"})\n",
    "    .assign(color_filter=lambda x: np.where((x.hue > 1) & (x.ci > 7), 1, 0))\n",
    "    .loc[lambda x: x['alcohol']>14]\n",
    "    .sort_values(\"alcohol\", ascending=False)\n",
    "    .reset_index(drop=True)\n",
    "    .loc[:, [\"alcohol\", \"ci\", \"hue\"]]\n",
    ")\n",
    "\n",
    "df"
   ]
  },
  {
   "cell_type": "code",
   "execution_count": 3,
   "id": "26d2ce4d-4cb8-48b5-8434-5477c85c2972",
   "metadata": {},
   "outputs": [],
   "source": [
    "# First, Import the libraries\n",
    "import numpy as np\n",
    "import pandas as pd\n",
    "from pandas import DataFrame, Series\n",
    "import matplotlib.pyplot as plt\n",
    "import seaborn as sns\n",
    "\n",
    "from sklearn.model_selection import train_test_split\n",
    "from sklearn.linear_model import LogisticRegression"
   ]
  },
  {
   "cell_type": "code",
   "execution_count": 9,
   "id": "fb859255-ac7a-421f-95d4-56e961303d7b",
   "metadata": {},
   "outputs": [],
   "source": [
    "missing_columns = ['10/50 Ratio', 'Pop', 'Unnamed: 12']\n",
    "\n",
    "df_country_variables = pd.read_csv('../data/raw/cpi_variable_data/country_variable.csv', header=1).drop(missing_columns, axis=1, inplace=True)\n",
    "\n"
   ]
  },
  {
   "cell_type": "code",
   "execution_count": null,
   "id": "723c439d-9ae1-41b7-b00c-a579ff61d704",
   "metadata": {},
   "outputs": [],
   "source": [
    "df_mc = pd.read_csv('data/src/sample_pandas_normal.csv', index_col=0).assign(point_ratio=df['point'] / 100).drop(columns='state').sort_values('age').head(3)\n"
   ]
  },
  {
   "cell_type": "code",
   "execution_count": 15,
   "id": "08801ced-80ea-45ed-a828-442747eaebb0",
   "metadata": {},
   "outputs": [],
   "source": [
    "\n",
    "df_data =(pd.read_csv('../data/raw/archive/data.csv')\n",
    "    .replace(['-'], np.nan)\n",
    "    .mean(numeric_only=True)\n",
    ")\n"
   ]
  },
  {
   "cell_type": "code",
   "execution_count": null,
   "id": "705d1049-d786-405f-a825-57487a3da0ec",
   "metadata": {},
   "outputs": [],
   "source": [
    "path_data = '../data/raw/archive/data.csv'"
   ]
  },
  {
   "cell_type": "code",
   "execution_count": 17,
   "id": "ebc01c8d-f99f-49b3-ae36-0aa1e28a00ba",
   "metadata": {},
   "outputs": [],
   "source": [
    "def load_and_process(url_or_path_to_csv_file):\n",
    "    df_data =(pd.read_csv('../data/raw/archive/data.csv')\n",
    "    .replace(['-'], np.nan)\n",
    "    .mean(numeric_only=True)\n",
    "    )\n",
    "    \n",
    "    return df_data\n"
   ]
  },
  {
   "cell_type": "code",
   "execution_count": null,
   "id": "95198971-2bab-4e57-9d61-dbe294a82826",
   "metadata": {},
   "outputs": [],
   "source": []
  }
 ],
 "metadata": {
  "kernelspec": {
   "display_name": "Python 3 (ipykernel)",
   "language": "python",
   "name": "python3"
  },
  "language_info": {
   "codemirror_mode": {
    "name": "ipython",
    "version": 3
   },
   "file_extension": ".py",
   "mimetype": "text/x-python",
   "name": "python",
   "nbconvert_exporter": "python",
   "pygments_lexer": "ipython3",
   "version": "3.9.5"
  }
 },
 "nbformat": 4,
 "nbformat_minor": 5
}
